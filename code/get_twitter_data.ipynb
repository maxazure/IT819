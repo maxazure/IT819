{
 "cells": [
  {
   "cell_type": "code",
   "execution_count": 2,
   "metadata": {
    "scrolled": true,
    "tags": []
   },
   "outputs": [
    {
     "output_type": "stream",
     "name": "stdout",
     "text": "@BluenRedFL @realDonaldTrump @GOPChairwoman @GOP A great look washing covid-19 and Donald Trump out to date on November 3, 2020\n-------------------------\nRT @jacobsoboroff: New @NBCNews total U.S. COVID-19 numbers: \n\n4,884,225 cases.\n\n160,337 deaths.\n-------------------------\nRT @RalphNader: The health insurance industry reports doubling their bulging profits off the business of the Covid-19 pandemic. So much so…\n-------------------------\nRT @AHS_media: We are receiving reports of a phone scam in which Albertans are told they have been potentially exposed to COVID-19 and need…\n-------------------------\nRT @kylegriffin1: Inbox: Facebook has removed the video Pres. Trump posted to Facebook claiming children are 'almost immune from COVID-19.'…\n-------------------------\nRT @MaketheRoadNY: Clara and her husband, both excluded workers, were heavily affected by COVID-19.\n\n“Cuomo has a duty to serve New Yorkers…\n-------------------------\n17 states in Nigeria record 354 new Covid-19 cases | #PlusTVAfrica - READ MORE - https://t.co/cLhESZkusA https://t.co/83uGRiMGAF\n-------------------------\nRT @latraelrahming: This fourteen days lockdown is only a bandaid. We need a national plan to build capacity to respond to the COVID-19 out…\n-------------------------\nRT @adoraIbe: a country that depends on imports to survive has officially lost its main sea port mid famine, covid-19, and an economic coll…\n-------------------------\nRT @BuzzFeedNews: Two Georgia students say they were suspended after their photos of a crowded school hallway went viral, raising COVID-19…\n-------------------------\nRT @vanguardngrnews: COVID-19: Facebook, Twitter remove Trump posts over ‘misinformation’ https://t.co/yoSB0YrJ0T #vanguardnews https://t.c…\n-------------------------\nRT @harriweinreb: I have no covid-19 symptoms, which from what I hear, is a  symptom of covid-19\n-------------------------\nRT @tedlieu: -@CIA assessed Russia paid money to people to kill US troops\n\n-Russian hackers attacked #COVID__19 research centers\n\n-Russia i…\n-------------------------\nInformation on COVID-19, the infectious disease caused by the most recen... https://t.co/f43T2hzxrr via @YouTube\n-------------------------\nas @MaryLTrump writes very persuasively, #TrumpTheology is little more than #PositiveThinking and… https://t.co/TCGGIdXnMX\n-------------------------\n"
    }
   ],
   "source": [
    "import tweepy\n",
    "\n",
    "consumer_key='oT1G8kXNStaLjE3oMkCNmzbSW'\n",
    "consumer_secret='f2gFexanHDCVgyz1a2NHDy3yPXvIsZrhGe5AUXUIQQnH2fvqK6'\n",
    "access_token='12935292-yQd4zzI61BC4uwfHBgrkRa83hrpvBKSBotaw1onTT'\n",
    "access_token_secret='2Y5sSkKdcsZ2nUF46PgPAHVpk2Mz7fEs9awfTlnILMnSp'\n",
    "\n",
    "auth = tweepy.OAuthHandler(consumer_key, consumer_secret)\n",
    "auth.set_access_token(access_token, access_token_secret)\n",
    "\n",
    "api = tweepy.API(auth)\n",
    "\n",
    "query='#COVID-19'\n",
    "langage='en'\n",
    "\n",
    "results = api.search(q=query,lang=langage)\n",
    "for tweet in results:\n",
    "    print( tweet.text)\n",
    "    print('-------------------------')\n",
    "    \n",
    "#id,date,text,location\n",
    "#@user"
   ]
  },
  {
   "cell_type": "code",
   "execution_count": 13,
   "metadata": {},
   "outputs": [],
   "source": [
    "import pandas as pd\n",
    "\n",
    "dataframe=pd.read_csv(\"april22_april23.csv\", header=None)\n",
    "\n",
    "dataframe=dataframe[0]\n",
    "\n",
    "dataframe.to_csv(\"ready_april22_april23.csv\", index=False, header=None)"
   ]
  },
  {
   "cell_type": "code",
   "execution_count": 1,
   "metadata": {
    "tags": []
   },
   "outputs": [
    {
     "output_type": "stream",
     "name": "stdout",
     "text": "Sentiment(classification='pos', p_pos=0.9396764747486607, p_neg=0.06032352525133939)\nSentiment(classification='neg', p_pos=0.3435509554140126, p_neg=0.6564490445859872)\n"
    }
   ],
   "source": [
    "# code for sentiment analysis\n",
    "\n",
    "from textblob import TextBlob\n",
    "from textblob.sentiments import NaiveBayesAnalyzer\n",
    "\n",
    "def getSentiments(text):\n",
    "    blob = TextBlob(text,  analyzer=NaiveBayesAnalyzer())\n",
    "    print(blob.sentiment)\n",
    "\n",
    "txt='Service robot implementation a theoretical framework and research agenda'\n",
    "txt1='He is really hateful'\n",
    "\n",
    "getSentiments(txt)\n",
    "getSentiments(txt1)\n",
    "\n",
    "\n",
    "training_data = [\n",
    "    ('it is good','pos'),\n",
    "    ('it is good','pos'),\n",
    "    ('it is good','pos'),\n",
    "    ('it is good','pos')]"
   ]
  },
  {
   "cell_type": "code",
   "execution_count": null,
   "metadata": {},
   "outputs": [],
   "source": []
  },
  {
   "cell_type": "code",
   "execution_count": null,
   "metadata": {},
   "outputs": [],
   "source": []
  },
  {
   "cell_type": "code",
   "execution_count": null,
   "metadata": {},
   "outputs": [],
   "source": []
  },
  {
   "cell_type": "code",
   "execution_count": null,
   "metadata": {},
   "outputs": [],
   "source": []
  },
  {
   "cell_type": "code",
   "execution_count": null,
   "metadata": {},
   "outputs": [],
   "source": []
  }
 ],
 "metadata": {
  "kernelspec": {
   "display_name": "Python 3",
   "language": "python",
   "name": "python3"
  },
  "language_info": {
   "codemirror_mode": {
    "name": "ipython",
    "version": 3
   },
   "file_extension": ".py",
   "mimetype": "text/x-python",
   "name": "python",
   "nbconvert_exporter": "python",
   "pygments_lexer": "ipython3",
   "version": "3.7.6"
  }
 },
 "nbformat": 4,
 "nbformat_minor": 4
}