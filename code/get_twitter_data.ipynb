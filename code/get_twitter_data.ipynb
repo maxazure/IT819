{
 "cells": [
  {
   "cell_type": "code",
   "execution_count": 2,
   "metadata": {
    "scrolled": true,
    "tags": []
   },
   "outputs": [
    {
     "output_type": "stream",
     "name": "stdout",
     "text": "@BluenRedFL @realDonaldTrump @GOPChairwoman @GOP A great look washing covid-19 and Donald Trump out to date on November 3, 2020\n-------------------------\nRT @jacobsoboroff: New @NBCNews total U.S. COVID-19 numbers: \n\n4,884,225 cases.\n\n160,337 deaths.\n-------------------------\nRT @RalphNader: The health insurance industry reports doubling their bulging profits off the business of the Covid-19 pandemic. So much so…\n-------------------------\nRT @AHS_media: We are receiving reports of a phone scam in which Albertans are told they have been potentially exposed to COVID-19 and need…\n-------------------------\nRT @kylegriffin1: Inbox: Facebook has removed the video Pres. Trump posted to Facebook claiming children are 'almost immune from COVID-19.'…\n-------------------------\nRT @MaketheRoadNY: Clara and her husband, both excluded workers, were heavily affected by COVID-19.\n\n“Cuomo has a duty to serve New Yorkers…\n-------------------------\n17 states in Nigeria record 354 new Covid-19 cases | #PlusTVAfrica - READ MORE - https://t.co/cLhESZkusA https://t.co/83uGRiMGAF\n-------------------------\nRT @latraelrahming: This fourteen days lockdown is only a bandaid. We need a national plan to build capacity to respond to the COVID-19 out…\n-------------------------\nRT @adoraIbe: a country that depends on imports to survive has officially lost its main sea port mid famine, covid-19, and an economic coll…\n-------------------------\nRT @BuzzFeedNews: Two Georgia students say they were suspended after their photos of a crowded school hallway went viral, raising COVID-19…\n-------------------------\nRT @vanguardngrnews: COVID-19: Facebook, Twitter remove Trump posts over ‘misinformation’ https://t.co/yoSB0YrJ0T #vanguardnews https://t.c…\n-------------------------\nRT @harriweinreb: I have no covid-19 symptoms, which from what I hear, is a  symptom of covid-19\n-------------------------\nRT @tedlieu: -@CIA assessed Russia paid money to people to kill US troops\n\n-Russian hackers attacked #COVID__19 research centers\n\n-Russia i…\n-------------------------\nInformation on COVID-19, the infectious disease caused by the most recen... https://t.co/f43T2hzxrr via @YouTube\n-------------------------\nas @MaryLTrump writes very persuasively, #TrumpTheology is little more than #PositiveThinking and… https://t.co/TCGGIdXnMX\n-------------------------\n"
    }
   ],
   "source": [
    "import tweepy\n",
    "\n",
    "consumer_key='oT1G8kXNStaLjE3oMkCNmzbSW'\n",
    "consumer_secret='f2gFexanHDCVgyz1a2NHDy3yPXvIsZrhGe5AUXUIQQnH2fvqK6'\n",
    "access_token='12935292-yQd4zzI61BC4uwfHBgrkRa83hrpvBKSBotaw1onTT'\n",
    "access_token_secret='2Y5sSkKdcsZ2nUF46PgPAHVpk2Mz7fEs9awfTlnILMnSp'\n",
    "\n",
    "auth = tweepy.OAuthHandler(consumer_key, consumer_secret)\n",
    "auth.set_access_token(access_token, access_token_secret)\n",
    "\n",
    "api = tweepy.API(auth)\n",
    "\n",
    "query='#COVID-19'\n",
    "langage='en'\n",
    "\n",
    "results = api.search(q=query,lang=langage)\n",
    "for tweet in results:\n",
    "    print( tweet.text)\n",
    "    print('-------------------------')\n",
    "    \n",
    "#id,date,text,location\n",
    "#@user"
   ]
  },
  {
   "cell_type": "code",
   "execution_count": 13,
   "metadata": {},
   "outputs": [],
   "source": [
    "import pandas as pd\n",
    "\n",
    "dataframe=pd.read_csv(\"april22_april23.csv\", header=None)\n",
    "\n",
    "dataframe=dataframe[0]\n",
    "\n",
    "dataframe.to_csv(\"ready_april22_april23.csv\", index=False, header=None)"
   ]
  },
  {
   "cell_type": "code",
   "execution_count": 1,
   "metadata": {
    "tags": []
   },
   "outputs": [
    {
     "output_type": "stream",
     "name": "stdout",
     "text": "Sentiment(classification='pos', p_pos=0.9396764747486607, p_neg=0.06032352525133939)\nSentiment(classification='neg', p_pos=0.3435509554140126, p_neg=0.6564490445859872)\n"
    }
   ],
   "source": [
    "# code for sentiment analysis\n",
    "\n",
    "from textblob import TextBlob\n",
    "from textblob.sentiments import NaiveBayesAnalyzer\n",
    "\n",
    "def getSentiments(text):\n",
    "    blob = TextBlob(text,  analyzer=NaiveBayesAnalyzer())\n",
    "    print(blob.sentiment)\n",
    "\n",
    "txt='Service robot implementation a theoretical framework and research agenda'\n",
    "txt1='He is really hateful'\n",
    "\n",
    "getSentiments(txt)\n",
    "getSentiments(txt1)\n",
    "\n",
    "\n",
    "training_data = [\n",
    "    ('it is good','pos'),\n",
    "    ('it is good','pos'),\n",
    "    ('it is good','pos'),\n",
    "    ('it is good','pos')]"
   ]
  },
  {
   "cell_type": "code",
   "execution_count": 1,
   "metadata": {
    "tags": []
   },
   "outputs": [
    {
     "output_type": "stream",
     "name": "stdout",
     "text": "..\\datasets\\raw_data_ids\\april10_april11_data_ids.csv\n..\\datasets\\raw_data_ids\\april11_april12_data_ids.csv\n..\\datasets\\raw_data_ids\\april12_april13_data_ids.csv\n..\\datasets\\raw_data_ids\\april13_april14_data_ids.csv\n..\\datasets\\raw_data_ids\\april14_april15_data_ids.csv\n..\\datasets\\raw_data_ids\\april15_april16_data_ids.csv\n..\\datasets\\raw_data_ids\\april16_april17_data_ids.csv\n..\\datasets\\raw_data_ids\\april17_april18_data_ids.csv\n..\\datasets\\raw_data_ids\\april18_april19_data_ids.csv\n..\\datasets\\raw_data_ids\\april19_april20_data_ids.csv\n..\\datasets\\raw_data_ids\\april1_april2_data_ids.csv\n..\\datasets\\raw_data_ids\\april20_april21_data_ids.csv\n..\\datasets\\raw_data_ids\\april21_april22_data_ids.csv\n..\\datasets\\raw_data_ids\\april22_april23_data_ids.csv\n..\\datasets\\raw_data_ids\\april2_april3_data_ids.csv\n..\\datasets\\raw_data_ids\\april3_april4_data_ids.csv\n..\\datasets\\raw_data_ids\\april4_april5_data_ids.csv\n..\\datasets\\raw_data_ids\\april5_april6_data_ids.csv\n..\\datasets\\raw_data_ids\\april6_april7_data_ids.csv\n..\\datasets\\raw_data_ids\\april7_april8_data_ids.csv\n..\\datasets\\raw_data_ids\\april8_april9_data_ids.csv\n..\\datasets\\raw_data_ids\\april9_april10_data_ids.csv\n..\\datasets\\raw_data_ids\\march21_march22_data_ids.csv\n..\\datasets\\raw_data_ids\\march22_march23_data_ids.csv\n..\\datasets\\raw_data_ids\\march23_march24_data_ids.csv\n..\\datasets\\raw_data_ids\\march24_march25_data_ids.csv\n..\\datasets\\raw_data_ids\\march25_march26_data_ids.csv\n..\\datasets\\raw_data_ids\\march26_march27_data_ids.csv\n..\\datasets\\raw_data_ids\\march27_march28_data_ids.csv\n..\\datasets\\raw_data_ids\\march28_march29_data_ids.csv\n..\\datasets\\raw_data_ids\\march30_march31_data_ids.csv\n..\\datasets\\raw_data_ids\\march31_april1_data_ids.csv\n"
    }
   ],
   "source": [
    "# Cleaning data\n",
    "import os\n",
    "import pandas as pd\n",
    "\n",
    "g = os.walk(r\"..\\datasets\\raw_data\")\n",
    "\n",
    "for path,dir_list,file_list in g:  \n",
    "    for file_name in file_list:\n",
    "        filepath=os.path.join(path, file_name)\n",
    "\n",
    "        with open(filepath) as f:\n",
    "            df=pd.read_csv(filepath, header=None)\n",
    "            df=df[0]\n",
    "\n",
    "            new_file_name = os.path.join(r\"..\\datasets\\raw_data_ids\", file_name.split('.')[0]+'_data_ids.csv')\n",
    "            df.to_csv(new_file_name, index=False, header=None)\n",
    "            print(new_file_name)\n",
    "\n",
    "        # with open(filepath) as f:\n",
    "        #     p_txt = f.read()\n",
    "        #     n_list = p_txt.replace('\\n',' ').replace('  ',' ').lower().split(' ')\n",
    "\n",
    "        #     for tweet in n_list:\n",
    "        #         print(tweet.split(',')[0])\n",
    "        #     print(len(n_list))"
   ]
  },
  {
   "cell_type": "code",
   "execution_count": 52,
   "metadata": {
    "tags": [
     "outputPrepend"
    ]
   },
   "outputs": [
    {
     "output_type": "stream",
     "name": "stdout",
     "text": "ntelligentmindedcreatures #servingupmcs #youtube… https://t.co/lCNeOtFHxs\n--after-------------------------------------\nanother one on youtube now with the homies snoops ct  and hurox imc go check out serving up mc s  hiphop coronacalifornia thecirclecity corona rap imc intelligentmindedcreatures servingupmcs youtube \n--before-------------------------------------\nME AT THE CLUB, ONCE THE QUARANTINE OVER WITH \nTIK: SLEEPYJAYR •\n•\n#quarantine #tiktok #tiktokdance #quarantineandchill #dance #viralvideos #viralpost #corona #coronatime @ Cincinnati https://t.co/0hgxPx7Heh\n--after-------------------------------------\nme at the club once the quarantine over with tik sleepyjayr   quarantine tiktok tiktokdance quarantineandchill dance viralvideos viralpost corona coronatime  cincinnati \n--before-------------------------------------\nSong of the season, sung by Zairah.\n \nThank you Talia🧚🏽‍♀️ for sending us this song for teaching young children on how to safeguard yourself from the Corona virus pandemic, inspired by @priyankachopra ‘s and… https://t.co/Kemb5ggxdv\n--after-------------------------------------\nsong of the season sung by zairah  thank you talia for sending us this song for teaching young children on how to safeguard yourself from the corona virus pandemic inspired by priyankachopra s and \n--before-------------------------------------\nDay 18: Are the beaches open? Can you close a beach?\n🧟‍♂️\n🧟‍♂️\n🧟‍♂️\n@kell_mitch\n🧟‍♂️\n#newportbeach #emptystreets #cartwheel #sandytoes #corona #alonetogether @ Newport Beach, California https://t.co/72ECFHORR3\n--after-------------------------------------\nday   are the beaches open can you close a beach   kell mitch  newportbeach emptystreets cartwheel sandytoes corona alonetogether  newport beach california \n--before-------------------------------------\nPraying for all our first responders, the shortage is real and anyway we can help them is appreciated.. #pleaseshare #share #coronavirus #covid #corona #covid19 #firstresponders #losangeles #california @ Los… https://t.co/ZWcsGyeTf6\n--after-------------------------------------\npraying for all our first responders the shortage is real and anyway we can help them is appreciated  pleaseshare share coronavirus covid corona covid  firstresponders losangeles california  los \n--before-------------------------------------\nThis the realest s*** I read during this whole Corona s*** #flint #corona @ Rochester, New York https://t.co/zKcfbcPZ7T\n--after-------------------------------------\nthis the realest s  i read during this whole corona s   flint corona  rochester new york \n--before-------------------------------------\n[SWIPE LEFT] 🧤Check out our new series... “IDIOTS WITH GLOVES!” 😩👀 ••• #TAG SUM1 THAT EATS WITH DIRTY GLOVES! #rona #corona #covid19 #socialdistancing #quarantine #backthefuckup #mcdonalds #nyc #virus #🦠 @ NYC https://t.co/6rIqVrSBHz\n--after-------------------------------------\n swipe left check out our new series   idiots with gloves     tag sum that eats with dirty gloves  rona corona covid  socialdistancing quarantine backthefuckup mcdonalds nyc virus   nyc \n--before-------------------------------------\nGot nothing to do over here but make more Joe Exotic Memes! Working on some more corona memes for yall #joeexotic #tigerking #tigerkingnetflix #coronavirus #coronamemes #covid19 #covid_19 #docantle #carolebaskin @… https://t.co/1gNsy8huq5\n--after-------------------------------------\ngot nothing to do over here but make more joe exotic memes working on some more corona memes for yall joeexotic tigerking tigerkingnetflix coronavirus coronamemes covid  covid   docantle carolebaskin  \n--before-------------------------------------\nOddly soothing . . . washingtondc #dc #metro\n#shelterinplace #corona @ Washington D.C. https://t.co/fMWYBN5hIs\n--after-------------------------------------\noddly soothing    washingtondc dc metro shelterinplace corona  washington d c \n--before-------------------------------------\nWatch Now 🙊 NEW MUSIC VIDEO COMING SOON!!! 💪💪💪💪💪\nWHAT YA HEARD- LuL AK ft. PooLa \nHit LIKE\n#worldstar #MusicVideo #Dopeasf #lit #turnup #corona #tiktok #dj #rapper #hiphop #musician #producer #radiopersonality #radio… https://t.co/mDry1RCjbg\n--after-------------------------------------\nwatch now new music video coming soon   what ya heard lul ak ft poola hit like worldstar musicvideo dopeasf lit turnup corona tiktok dj rapper hiphop musician producer radiopersonality radio \n--before-------------------------------------\nAll right!  Let’s do this... #tigerking @netflix #netflixshows @ Corona, California https://t.co/YvRuvWbG99\n--after-------------------------------------\nall right  let s do this   tigerking netflix netflixshows  corona california \n--before-------------------------------------\n#stayhome In this critical situation from my team #codersoftech a small contribution for fight with #corona I would like to Thanks all of my team Members. @ Sanjeeva Reddy Nagar, India https://t.co/jB09nGtWRQ\n--after-------------------------------------\n stayhome in this critical situation from my team codersoftech a small contribution for fight with corona i would like to thanks all of my team members  sanjeeva reddy nagar india \n--before-------------------------------------\nCorona Chronics \n\n#MIKEinc #kahnlesrule #feministdad #rawpower #nashville #beprolific #minimalism #modern #sustainability #interiordesign #civilengineering #landscapearchitecture #fashiondesign #fashionmodel… https://t.co/c9FCCM6MQB\n--after-------------------------------------\ncorona chronics  mikeinc kahnlesrule feministdad rawpower nashville beprolific minimalism modern sustainability interiordesign civilengineering landscapearchitecture fashiondesign fashionmodel \n--before-------------------------------------\nAPRIL 2020 \nCorona Health Project\n\nHike: Day 1\nAdded Weights: 17.6 lbs\nDistance: 6.90 miles\nSteps: 14,499\nStart Time: 5:12 AM\nDuration: 1h 56 min\n\nWaterfast: Day 2\n.\n.\n.\n.\n#coronahealthproject #health #fitness… https://t.co/KZXFcM9GmD\n--after-------------------------------------\napril    corona health project hike day  added weights    lbs distance    miles steps     start time    am duration  h  min waterfast day      coronahealthproject health fitness \n--before-------------------------------------\nThank you bbcamerica and montypythonofficial after a roller coaster day and feeling no end in sight... this is what we need ❤️ #yeahimthatmom #thisboyslife #corona #coronacountdown #montypythonandtheholygrail… https://t.co/U1vEMs8rLq\n--after-------------------------------------\nthank you bbcamerica and montypythonofficial after a roller coaster day and feeling no end in sight  this is what we need  yeahimthatmom thisboyslife corona coronacountdown montypythonandtheholygrail \n--before-------------------------------------\nTips to improve immunity. As Corona is the biggest threat to mankind now, here are few tips by Ayush ministry that will help to improve our body's immunity and inturn help us to protect from #covid-19 @ Jharsuguda https://t.co/9gotRb2usC\n--after-------------------------------------\ntips to improve immunity as corona is the biggest threat to mankind now here are few tips by ayush ministry that will help to improve our body s immunity and inturn help us to protect from covid   jharsuguda \n--before-------------------------------------\nCorona corn hole! @ Stevens Point, Wisconsin https://t.co/rS4kNBr3To\n--after-------------------------------------\ncorona corn hole  stevens point wisconsin \n--before-------------------------------------\nBeautiful story from the @humansofjudaism thanks to @elizabethpipko \n#corona #survivor #Holocaust #kaddish #shemayisrael @ Brooklyn, New York https://t.co/Zht6mHjbCG\n--after-------------------------------------\nbeautiful story from the humansofjudaism thanks to elizabethpipko  corona survivor holocaust kaddish shemayisrael  brooklyn new york \n--before-------------------------------------\nA request\n\n#coronavirusoutbreak\n#corona\n#virus\n#safetyfirst\n#stayhome\n#staysafe\n#manas @ The Hell https://t.co/btXCyisgN4\n--after-------------------------------------\na request  coronavirusoutbreak corona virus safetyfirst stayhome staysafe manas  the hell \n--before-------------------------------------\nHappy Ram Navami 🚩\nJai Shree Ram 🙏\nPlease Stay at Home and Help Us to Fight Corona\n#happyramnavami #jaishreeram #bajrangdal #djriju #artistlife #djlife #playlife 🔥💀🤘 @ আমার শহর Chandrakona Road https://t.co/1oS6lE3Wgx\n--after-------------------------------------\nhappy ram navami jai shree ram please stay at home and help us to fight corona happyramnavami jaishreeram bajrangdal djriju artistlife djlife playlife       chandrakona road \n--before-------------------------------------\nNever has this read more True &amp; If the Television Media is overpowering you then take that Power away completely...💁🏼‍♂️𝙏𝙐𝙍𝙉 𝙄𝙏 𝙊𝙁𝙁.\n⚠️\n⚠️\n⚠️\n⚠️\n#corona #covid2020 #staysafe @ Singapore https://t.co/vq26bhzl3t\n--after-------------------------------------\nnever has this read more true amp if the television media is overpowering you then take that power away completely           corona covid   staysafe  singapore \n--before-------------------------------------\nWe need to change our habits otherwise nature will force us to do so like this.\n#corona #covid_19 #china #stayhomestaysafe #govegan @ Kota, Rajasthan https://t.co/eqHoEI1OLR\n--after-------------------------------------\nwe need to change our habits otherwise nature will force us to do so like this  corona covid   china stayhomestaysafe govegan  kota rajasthan \n--before-------------------------------------\nhttps://t.co/BMp7mY3qzM“About a week ago an elderly gentleman at the railway station in Katoomba (1040 metres above sea level) assured me there was nothing to worry… https://t.co/vw59QfuG6v\n--after-------------------------------------\n about a week ago an elderly gentleman at the railway station in katoomba    metres above sea level assured me there was nothing to worry \n--before-------------------------------------\nCan't believe found out one of my close dearest friends is on vent due to corona... prayers to him and his Wife and family 😢😢...i miss them dearly, y'all would never understand!!! Xo 😍😍😍🙏😘🙏❤️🙏❤️🙏😢😢😢😢😢😢 @ Detroit,… https://t.co/BQQwO3Gqf8\n--after-------------------------------------\ncan t believe found out one of my close dearest friends is on vent due to corona  prayers to him and his wife and family  i miss them dearly y all would never understand  xo  detroit  \n--before-------------------------------------\n#covid19 #virus #pandemic #sickness #protein #crown #corona #coronavirus #animation #3danimation #cinema4d #c4dtoa #render #medical #lockdown #stayhome #staysafe #london #motiongraphics #mograph @ London, United Kingdom https://t.co/zWasbpdID3\n--after-------------------------------------\n covid  virus pandemic sickness protein crown corona coronavirus animation  danimation cinema d c dtoa render medical lockdown stayhome staysafe london motiongraphics mograph  london united kingdom \n--before-------------------------------------\nSign of the times. My mom staying healthy. #covid_19 #corona #mask @ North Hollywood, California https://t.co/99QIDr5kLg\n--after-------------------------------------\nsign of the times my mom staying healthy  covid   corona mask  north hollywood california \n--before-------------------------------------\nStay Safe,\nMaintain Social Distancing,\nBe kind...\n\n#covid19 #corona #gocorona #positivethoughts #lockdown #thoughts #spilledink #wordporn #wordsofinstagram\n#wordsmith #words #bymepoetry #instawritings… https://t.co/I15X9ueFpx\n--after-------------------------------------\nstay safe maintain social distancing be kind   covid  corona gocorona positivethoughts lockdown thoughts spilledink wordporn wordsofinstagram wordsmith words bymepoetry instawritings \n--before-------------------------------------\nMade it to 2 weeks in quarantine 🤪. Boy, did I need some vitamin D. Getting to the park to enjoy the end of the day, always clears my head and outlook for the next day...cuz with all this corona..I don't know how I… https://t.co/KVbVfElxYm\n--after-------------------------------------\nmade it to  weeks in quarantine  boy did i need some vitamin d getting to the park to enjoy the end of the day always clears my head and outlook for the next day  cuz with all this corona i don t know how i \n--before-------------------------------------\nI love #braiding 🥰🥰. I’m a beast at this. But since the #corona #virus I’ve been at #home No biggy I know how to stay #busy . So stay safe #stayhomestaystrong #stayhomestaysafe @ Royalty Kutz Barberbeautyshop https://t.co/d2HLtwBwDc\n--after-------------------------------------\ni love braiding  i m a beast at this but since the corona virus i ve been at home no biggy i know how to stay busy  so stay safe stayhomestaystrong stayhomestaysafe  royalty kutz barberbeautyshop \n--before-------------------------------------\nImagine if we treated sin like the corona virus. @ Alexandria, Louisiana https://t.co/FqHAZbVplL\n--after-------------------------------------\nimagine if we treated sin like the corona virus  alexandria louisiana \n--before-------------------------------------\nStumptown #ecofriendly #trailfinds #trailfriends #cohabitation #ecology #hike #hikeindiana #hiking #hikingadventures #Indiana #joshuarlawfoto #HighAbove #coronahikingchronicles #corona #didnttouchorlickanything @… https://t.co/TejMuuXLZP\n--after-------------------------------------\nstumptown ecofriendly trailfinds trailfriends cohabitation ecology hike hikeindiana hiking hikingadventures indiana joshuarlawfoto highabove coronahikingchronicles corona didnttouchorlickanything  \n--before-------------------------------------\nYesterday at 4:16pm in #Ottawa. Should people be on sports fields during the #covid #pandemic? I spotted this while on a walk with my mom.\n🏈 \n#ontario #canada #covid #socialdistancing #corona #mom #family… https://t.co/tDHTJaJyqi\n--after-------------------------------------\nyesterday at   pm in ottawa should people be on sports fields during the covid pandemic i spotted this while on a walk with my mom   ontario canada covid socialdistancing corona mom family \n--before-------------------------------------\nCovid - 19\n.\n.\n.\n#covid19 #corona #fightforvirus #stayathome #lockdown #prayforworld #stayhomechallenge #springiscoming #backtohome #insta #followforfollowback #mnmuneebahmed @mnmuneebahmed #betterlife 😍😉🙌 @… https://t.co/RiKC28mGp8\n--after-------------------------------------\ncovid       covid  corona fightforvirus stayathome lockdown prayforworld stayhomechallenge springiscoming backtohome insta followforfollowback mnmuneebahmed mnmuneebahmed betterlife   \n--before-------------------------------------\nLagunita Court center hilltop bench estate garden #grave just became available. Go to https://t.co/YIlXWxwebq  There’s nothing else like it. #TrustintheLord #InGodwetrust #Christians #God #blessed #prayers #covid_19 #corona… https://t.co/3gdZdW2wTY\n--after-------------------------------------\nlagunita court center hilltop bench estate garden grave just became available go to  there s nothing else like it  trustinthelord ingodwetrust christians god blessed prayers covid   corona \n--before-------------------------------------\nDon't forget guys, you can order home delivery via WhatsApp +62 819-3624-8590 any time from 10am-9pm, best food in Bali delivered direct to your door, corona virus safe from Speedway Cafe Jl Mertanadi No 63… https://t.co/u6cEgbrquT\n--after-------------------------------------\ndon t forget guys you can order home delivery via whatsapp          any time from  am pm best food in bali delivered direct to your door corona virus safe from speedway cafe jl mertanadi no   \n--before-------------------------------------\nWhat are 5 new positive thoughts that you have noted today to work upon?! #wfh #selfimprovement #corona #selfmanagement @ Singapore https://t.co/z87AwkKbAS\n--after-------------------------------------\nwhat are  new positive thoughts that you have noted today to work upon  wfh selfimprovement corona selfmanagement  singapore \n--before-------------------------------------\nanyway\nI think the spirit of Corona will cover the whole earth. \n\n①Don't spread the virus to people around you. Match collective consciousness with the world.\n\n(Adjust the collective consciousness of the whole… https://t.co/IyOOmz0FXE\n--after-------------------------------------\nanyway i think the spirit of corona will cover the whole earth   don t spread the virus to people around you match collective consciousness with the world  adjust the collective consciousness of the whole \n--before-------------------------------------\nPortrait of an asian girl in a black mask, to prevent serious epidemics, and concept of covid-19 virus, vintage image. \n.\n#covıd19 #corona #mask #black #vintage #safetyfirst #asia #asian #girl #womenstyle… https://t.co/PXlIeU3ls2\n--after-------------------------------------\nportrait of an asian girl in a black mask to prevent serious epidemics and concept of covid  virus vintage image   cov d  corona mask black vintage safetyfirst asia asian girl womenstyle \n--before-------------------------------------\nThis is so sad and we need to really fight this and we need very strict laws against people like these.\nNow they're pelting stones on doctors and police who just went to check a suspect of Corona. Is this what some… https://t.co/U3THDukvdx\n--after-------------------------------------\nthis is so sad and we need to really fight this and we need very strict laws against people like these now they re pelting stones on doctors and police who just went to check a suspect of corona is this what some \n--before-------------------------------------\nToday I'm coming on fb live  at 5PM \nAbout corona virus- Delhi Nijamuddin Markas @ Rompicherla, India https://t.co/3Rcp0b8riM\n--after-------------------------------------\ntoday i m coming on fb live at pm about corona virus delhi nijamuddin markas  rompicherla india \n--before-------------------------------------\nSo as of me , myself and I ; ndikuwana ka moment kekutaura naMwari muimba yaMwari, hahaahaa.\nDon't accept it's not a challenge.\n\nCorona Virus shall be history, worship and love your God who shall remain. Love and… https://t.co/Gf2Rm3LbV7\n--after-------------------------------------\nso as of me  myself and i  ndikuwana ka moment kekutaura namwari muimba yamwari hahaahaa don t accept it s not a challenge  corona virus shall be history worship and love your god who shall remain love and \n--before-------------------------------------\nTonight at 8.30pm BST (same time in UK and Morocco) I’ll be talking with @CraghoppersUK about all things adventure from the Sahara to corona lockdown.  Please join us here - I’d love to answer your questions. It’s… https://t.co/eXK1LKOVhR\n--after-------------------------------------\ntonight at   pm bst same time in uk and morocco i ll be talking with craghoppersuk about all things adventure from the sahara to corona lockdown  please join us here  i d love to answer your questions it s \n--before-------------------------------------\nGo Corona Go.. 😁\n#gocorona series - No.2\n\nFt #TheTower https://t.co/fauowPB0Ia of @GokulamKeralaFC\nSame action, Same Spot, Same Match from Previous post which ft mirsha2157\n\n#StaySafe\n#stayhome #stayhealthy #breakthechain #covid_19… https://t.co/xOIKZs37qa\n--after-------------------------------------\ngo corona go   gocorona series  no  ft thetower of gokulamkeralafc same action same spot same match from previous post which ft mirsha    staysafe stayhome stayhealthy breakthechain covid   \n--before-------------------------------------\nDear #corona , please let us live! \nI really need to travel :( \n#archive #thailand #kohsamui @ Koh Sumai Thailand https://t.co/v3soLSD8A8\n--after-------------------------------------\ndear corona  please let us live  i really need to travel   archive thailand kohsamui  koh sumai thailand \n"
    }
   ],
   "source": [
    "import os\n",
    "import pandas as pd\n",
    "import re\n",
    "import emoji\n",
    "import nltk\n",
    "from nltk.corpus import stopwords\n",
    "\n",
    "def remove_emoji(text):\n",
    "    return emoji.get_emoji_regexp().sub(u'', text)\n",
    "\n",
    "def remove_urls(vTEXT):\n",
    "    vTEXT = re.sub(r'(https|http)?:\\/\\/(\\w|\\.|\\/|\\?|\\=|\\&|\\%)*\\b', '', vTEXT, flags=re.MULTILINE)\n",
    "    return(vTEXT)\n",
    "\n",
    "def remove_special_chars(text):\n",
    "    text=re.sub(r'[^a-zA-Z]', ' ', text)\n",
    "    text=text.replace('\\n',' ').replace('  ',' ').replace('…','').replace('@','').replace('•','').lower()\n",
    "    return(text)\n",
    "\n",
    "def cleaning(text):\n",
    "    text=remove_urls(line)\n",
    "    text=remove_emoji(text)\n",
    "    text=remove_special_chars(text)\n",
    "    return(text)\n",
    "\n",
    "\n",
    "df=pd.read_csv(r\"..\\datasets\\raw_data_tweets\\april1_april2_data.csv\")\n",
    "#df=df[0]\n",
    "for line in df['text']:\n",
    "    # print('--before-------------------------------------')\n",
    "    # print(line)\n",
    "    print('--after-------------------------------------')\n",
    "    print(cleaning(line))\n",
    "#df.to_csv(new_file_name, index=False, header=None)"
   ]
  },
  {
   "cell_type": "code",
   "execution_count": 50,
   "metadata": {
    "tags": []
   },
   "outputs": [
    {
     "output_type": "execute_result",
     "data": {
      "text/plain": "                      id                                               text\n0    1245275030956544002  111- Wednesday 1st of April I wanna wish you g...\n1    1245263893682769921  111- FOOTBALL:  Corona und der Fussball https:...\n2    1245275001563099136  111- Play doh burgers in your favourite dress ...\n3    1245290940148875265  111- It’s Ya Boy Tizzy!!\\nPREVIEW II\\n\\n****Fu...\n4    1245271705804771328  111- \"The empty street had its own story. But ...\n..                   ...                                                ...\n598  1245598309328117761  111- Today I'm coming on fb live  at 5PM \\nAbo...\n599  1245598290940289026  111- So as of me , myself and I ; ndikuwana ka...\n600  1245595719076990976  111- Tonight at 8.30pm BST (same time in UK an...\n601  1245599205298556929  111- Go Corona Go.. 😁\\n#gocorona series - No.2...\n602  1245600097708019712  111- Dear #corona , please let us live! \\nI re...\n\n[603 rows x 2 columns]",
      "text/html": "<div>\n<style scoped>\n    .dataframe tbody tr th:only-of-type {\n        vertical-align: middle;\n    }\n\n    .dataframe tbody tr th {\n        vertical-align: top;\n    }\n\n    .dataframe thead th {\n        text-align: right;\n    }\n</style>\n<table border=\"1\" class=\"dataframe\">\n  <thead>\n    <tr style=\"text-align: right;\">\n      <th></th>\n      <th>id</th>\n      <th>text</th>\n    </tr>\n  </thead>\n  <tbody>\n    <tr>\n      <th>0</th>\n      <td>1245275030956544002</td>\n      <td>111- Wednesday 1st of April I wanna wish you g...</td>\n    </tr>\n    <tr>\n      <th>1</th>\n      <td>1245263893682769921</td>\n      <td>111- FOOTBALL:  Corona und der Fussball https:...</td>\n    </tr>\n    <tr>\n      <th>2</th>\n      <td>1245275001563099136</td>\n      <td>111- Play doh burgers in your favourite dress ...</td>\n    </tr>\n    <tr>\n      <th>3</th>\n      <td>1245290940148875265</td>\n      <td>111- It’s Ya Boy Tizzy!!\\nPREVIEW II\\n\\n****Fu...</td>\n    </tr>\n    <tr>\n      <th>4</th>\n      <td>1245271705804771328</td>\n      <td>111- \"The empty street had its own story. But ...</td>\n    </tr>\n    <tr>\n      <th>...</th>\n      <td>...</td>\n      <td>...</td>\n    </tr>\n    <tr>\n      <th>598</th>\n      <td>1245598309328117761</td>\n      <td>111- Today I'm coming on fb live  at 5PM \\nAbo...</td>\n    </tr>\n    <tr>\n      <th>599</th>\n      <td>1245598290940289026</td>\n      <td>111- So as of me , myself and I ; ndikuwana ka...</td>\n    </tr>\n    <tr>\n      <th>600</th>\n      <td>1245595719076990976</td>\n      <td>111- Tonight at 8.30pm BST (same time in UK an...</td>\n    </tr>\n    <tr>\n      <th>601</th>\n      <td>1245599205298556929</td>\n      <td>111- Go Corona Go.. 😁\\n#gocorona series - No.2...</td>\n    </tr>\n    <tr>\n      <th>602</th>\n      <td>1245600097708019712</td>\n      <td>111- Dear #corona , please let us live! \\nI re...</td>\n    </tr>\n  </tbody>\n</table>\n<p>603 rows × 2 columns</p>\n</div>"
     },
     "metadata": {},
     "execution_count": 50
    }
   ],
   "source": [
    "import os\n",
    "import pandas as pd\n",
    "\n",
    "df=pd.read_csv(r\"..\\datasets\\raw_data_tweets\\april1_april2_data.csv\")\n",
    "ids=df['id']\n",
    "texts=df['text']\n",
    "df1 = pd.DataFrame({'id':ids, 'text':texts})\n",
    "for index,row in df1.iterrows():\n",
    "    df1.iloc[index,1]='111- '+row['text']\n",
    "df1\n",
    "#    print(index,row['text'])\n",
    "# for line in texts:\n",
    "#     print(line)"
   ]
  },
  {
   "cell_type": "code",
   "execution_count": null,
   "metadata": {},
   "outputs": [],
   "source": []
  },
  {
   "cell_type": "code",
   "execution_count": null,
   "metadata": {},
   "outputs": [],
   "source": []
  }
 ],
 "metadata": {
  "kernelspec": {
   "display_name": "Python 3.7.6 64-bit ('base': conda)",
   "language": "python",
   "name": "python_defaultSpec_1597356494806"
  },
  "language_info": {
   "codemirror_mode": {
    "name": "ipython",
    "version": 3
   },
   "file_extension": ".py",
   "mimetype": "text/x-python",
   "name": "python",
   "nbconvert_exporter": "python",
   "pygments_lexer": "ipython3",
   "version": "3.7.6-final"
  }
 },
 "nbformat": 4,
 "nbformat_minor": 4
}