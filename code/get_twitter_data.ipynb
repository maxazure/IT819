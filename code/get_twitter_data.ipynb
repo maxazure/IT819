{
 "cells": [
  {
   "cell_type": "code",
   "execution_count": 10,
   "metadata": {
    "scrolled": true
   },
   "outputs": [
    {
     "name": "stdout",
     "output_type": "stream",
     "text": [
      "RT @jeanguerre: Stephen Miller's pro-immigrant grandmother died from COVID-19 complications, and the White House is denying it, reports @Da…\n",
      "-------------------------\n",
      "RT @mmpadellan: BREAKING: The United States has just cracked 4 million COVID-19 cases. It took just 15 days to add 1 million cases.\n",
      "\n",
      "trump'…\n",
      "-------------------------\n",
      "RT @ucpress: Greater implementation of micropublishing in the social and behavioral sciences would improve the availability of data in the…\n",
      "-------------------------\n",
      "RT @Barnes_Law: A 60-year-old man who died from a gun shot wound to the head.\n",
      "A 90-year-old man who fell and died from complications of a h…\n",
      "-------------------------\n",
      "RT @GMA: As the pandemic continues, doctors and researchers are learning more about the symptoms of COVID-19. And, as it turns out, some of…\n",
      "-------------------------\n",
      "RT @NickEvershed: latest trend map update for Victoria continues to show increasing cases in the south west outside the metro lockdown area…\n",
      "-------------------------\n",
      "RT @Barnes_Law: A 60-year-old man who died from a gun shot wound to the head.\n",
      "A 90-year-old man who fell and died from complications of a h…\n",
      "-------------------------\n",
      "RT @LoriAHiggins: BREAKING: Two students attending in-person summer classes in the Detroit school district test positive for COVID-19 https…\n",
      "-------------------------\n",
      "RT @sfexaminer: Opinion: The estimated 240,000 people imprisoned in California were never permitted to practice physical distancing. They h…\n",
      "-------------------------\n",
      "RT @JoeBiden: COVID-19 infections are going up.\n",
      "\n",
      "The number of deaths is going up. \n",
      "\n",
      "This morning it was announced that, once again, the nu…\n",
      "-------------------------\n",
      "@DailyCaller Covid-19 Curve 🦠 ⚾️\n",
      "-------------------------\n",
      "RT @senatorshoshana: \"We want to ensure that unnecessary FDA animal testing red tape does not pose obstacles to medical innovation or slow…\n",
      "-------------------------\n",
      "There Is More Than One COVID-19 Infection Fatality Rate https://t.co/Wra9TMHZQv\n",
      "-------------------------\n",
      "RT @intlhotgirl: it’s funny how places will ask you “have you traveled outside of the US the last 14 days?” when it comes to covid-19 bc ir…\n",
      "-------------------------\n",
      "RT @TimOBrien: On Covid-19: “This should never have been allowed to happen,” said the man who alllowed it to happen. #TrumpPressConference\n",
      "-------------------------\n"
     ]
    }
   ],
   "source": [
    "import tweepy\n",
    "\n",
    "consumer_key='oT1G8kXNStaLjE3oMkCNmzbSW'\n",
    "consumer_secret='f2gFexanHDCVgyz1a2NHDy3yPXvIsZrhGe5AUXUIQQnH2fvqK6'\n",
    "access_token='12935292-yQd4zzI61BC4uwfHBgrkRa83hrpvBKSBotaw1onTT'\n",
    "access_token_secret='2Y5sSkKdcsZ2nUF46PgPAHVpk2Mz7fEs9awfTlnILMnSp'\n",
    "\n",
    "auth = tweepy.OAuthHandler(consumer_key, consumer_secret)\n",
    "auth.set_access_token(access_token, access_token_secret)\n",
    "\n",
    "api = tweepy.API(auth)\n",
    "\n",
    "query='#COVID-19'\n",
    "langage='en'\n",
    "\n",
    "results = api.search(q=query,lang=langage)\n",
    "for tweet in results:\n",
    "    print( tweet.text)\n",
    "    print('-------------------------')\n",
    "    \n",
    "id,date,text,location\n",
    "@user"
   ]
  },
  {
   "cell_type": "code",
   "execution_count": null,
   "metadata": {},
   "outputs": [],
   "source": []
  },
  {
   "cell_type": "code",
   "execution_count": null,
   "metadata": {},
   "outputs": [],
   "source": []
  }
 ],
 "metadata": {
  "kernelspec": {
   "display_name": "Python 3",
   "language": "python",
   "name": "python3"
  },
  "language_info": {
   "codemirror_mode": {
    "name": "ipython",
    "version": 3
   },
   "file_extension": ".py",
   "mimetype": "text/x-python",
   "name": "python",
   "nbconvert_exporter": "python",
   "pygments_lexer": "ipython3",
   "version": "3.7.6"
  }
 },
 "nbformat": 4,
 "nbformat_minor": 4
}
