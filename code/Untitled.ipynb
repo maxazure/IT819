{
 "cells": [
  {
   "cell_type": "code",
   "execution_count": 11,
   "metadata": {},
   "outputs": [
    {
     "name": "stdout",
     "output_type": "stream",
     "text": [
      "Wed Sep 16 13:50:46 2020       \n",
      "+-----------------------------------------------------------------------------+\n",
      "| NVIDIA-SMI 446.14       Driver Version: 446.14       CUDA Version: 11.0     |\n",
      "|-------------------------------+----------------------+----------------------+\n",
      "| GPU  Name            TCC/WDDM | Bus-Id        Disp.A | Volatile Uncorr. ECC |\n",
      "| Fan  Temp  Perf  Pwr:Usage/Cap|         Memory-Usage | GPU-Util  Compute M. |\n",
      "|===============================+======================+======================|\n",
      "|   0  GeForce MX250      WDDM  | 00000000:01:00.0 Off |                  N/A |\n",
      "| N/A   50C    P0    N/A /  N/A |     88MiB /  2048MiB |      0%      Default |\n",
      "+-------------------------------+----------------------+----------------------+\n",
      "                                                                               \n",
      "+-----------------------------------------------------------------------------+\n",
      "| Processes:                                                                  |\n",
      "|  GPU                  PID   Type   Process name                  GPU Memory |\n",
      "|                                                                  Usage      |\n",
      "|=============================================================================|\n",
      "|    0                23892      C   ...Data\\Anaconda3\\python.exe    N/A      |\n",
      "+-----------------------------------------------------------------------------+\n"
     ]
    }
   ],
   "source": [
    "!nvidia-smi"
   ]
  },
  {
   "cell_type": "code",
   "execution_count": 2,
   "metadata": {},
   "outputs": [
    {
     "name": "stdout",
     "output_type": "stream",
     "text": [
      "Collecting gdown\n",
      "  Downloading gdown-3.12.2.tar.gz (8.2 kB)\n",
      "  Installing build dependencies: started\n",
      "  Installing build dependencies: finished with status 'done'\n",
      "  Getting requirements to build wheel: started\n",
      "  Getting requirements to build wheel: finished with status 'done'\n",
      "    Preparing wheel metadata: started\n",
      "    Preparing wheel metadata: finished with status 'done'\n",
      "Requirement already satisfied: tqdm in c:\\programdata\\anaconda3\\lib\\site-packages (from gdown) (4.42.1)\n",
      "Requirement already satisfied: requests[socks] in c:\\programdata\\anaconda3\\lib\\site-packages (from gdown) (2.23.0)\n",
      "Requirement already satisfied: filelock in c:\\programdata\\anaconda3\\lib\\site-packages (from gdown) (3.0.12)\n",
      "Requirement already satisfied: six in c:\\programdata\\anaconda3\\lib\\site-packages (from gdown) (1.12.0)\n",
      "Requirement already satisfied: chardet<4,>=3.0.2 in c:\\programdata\\anaconda3\\lib\\site-packages (from requests[socks]->gdown) (3.0.4)\n",
      "Requirement already satisfied: urllib3!=1.25.0,!=1.25.1,<1.26,>=1.21.1 in c:\\programdata\\anaconda3\\lib\\site-packages (from requests[socks]->gdown) (1.25.9)\n",
      "Requirement already satisfied: certifi>=2017.4.17 in c:\\programdata\\anaconda3\\lib\\site-packages (from requests[socks]->gdown) (2020.4.5.1)\n",
      "Requirement already satisfied: idna<3,>=2.5 in c:\\programdata\\anaconda3\\lib\\site-packages (from requests[socks]->gdown) (2.9)\n",
      "Requirement already satisfied: PySocks!=1.5.7,>=1.5.6; extra == \"socks\" in c:\\programdata\\anaconda3\\lib\\site-packages (from requests[socks]->gdown) (1.7.1)\n",
      "Building wheels for collected packages: gdown\n",
      "  Building wheel for gdown (PEP 517): started\n",
      "  Building wheel for gdown (PEP 517): finished with status 'done'\n",
      "  Created wheel for gdown: filename=gdown-3.12.2-py3-none-any.whl size=9684 sha256=da160feb59c4ba83e5e2be683dbb5d6eda7dde98af9197686d110f9d0cb26278\n",
      "  Stored in directory: c:\\users\\maxazure\\appdata\\local\\pip\\cache\\wheels\\ba\\e0\\7e\\726e872a53f7358b4b96a9975b04e98113b005cd8609a63abc\n",
      "Successfully built gdown\n",
      "Installing collected packages: gdown\n",
      "Successfully installed gdown-3.12.2\n"
     ]
    },
    {
     "name": "stderr",
     "output_type": "stream",
     "text": [
      "ERROR: Could not find a version that satisfies the requirement tensorflow_text (from versions: none)\n",
      "ERROR: No matching distribution found for tensorflow_text\n"
     ]
    }
   ],
   "source": [
    "!pip install gdown"
   ]
  },
  {
   "cell_type": "code",
   "execution_count": 13,
   "metadata": {},
   "outputs": [
    {
     "name": "stdout",
     "output_type": "stream",
     "text": [
      "Requirement already satisfied: tensorflow-gpu in c:\\programdata\\anaconda3\\lib\\site-packages (2.2.0)\n",
      "Requirement already satisfied: wheel>=0.26; python_version >= \"3\" in c:\\programdata\\anaconda3\\lib\\site-packages (from tensorflow-gpu) (0.34.2)\n",
      "Requirement already satisfied: astunparse==1.6.3 in c:\\programdata\\anaconda3\\lib\\site-packages (from tensorflow-gpu) (1.6.3)\n",
      "Requirement already satisfied: termcolor>=1.1.0 in c:\\programdata\\anaconda3\\lib\\site-packages (from tensorflow-gpu) (1.1.0)\n",
      "Requirement already satisfied: numpy<2.0,>=1.16.0 in c:\\programdata\\anaconda3\\lib\\site-packages (from tensorflow-gpu) (1.18.4)\n",
      "Requirement already satisfied: tensorflow-gpu-estimator<2.3.0,>=2.2.0 in c:\\programdata\\anaconda3\\lib\\site-packages (from tensorflow-gpu) (2.2.0)\n",
      "Requirement already satisfied: h5py<2.11.0,>=2.10.0 in c:\\programdata\\anaconda3\\lib\\site-packages (from tensorflow-gpu) (2.10.0)\n",
      "Requirement already satisfied: grpcio>=1.8.6 in c:\\programdata\\anaconda3\\lib\\site-packages (from tensorflow-gpu) (1.29.0)\n",
      "Requirement already satisfied: tensorboard<2.3.0,>=2.2.0 in c:\\programdata\\anaconda3\\lib\\site-packages (from tensorflow-gpu) (2.2.2)\n",
      "Requirement already satisfied: opt-einsum>=2.3.2 in c:\\programdata\\anaconda3\\lib\\site-packages (from tensorflow-gpu) (3.2.1)\n",
      "Requirement already satisfied: google-pasta>=0.1.8 in c:\\programdata\\anaconda3\\lib\\site-packages (from tensorflow-gpu) (0.2.0)\n",
      "Requirement already satisfied: keras-preprocessing>=1.1.0 in c:\\programdata\\anaconda3\\lib\\site-packages (from tensorflow-gpu) (1.1.2)\n",
      "Requirement already satisfied: wrapt>=1.11.1 in c:\\programdata\\anaconda3\\lib\\site-packages (from tensorflow-gpu) (1.12.1)\n",
      "Requirement already satisfied: absl-py>=0.7.0 in c:\\programdata\\anaconda3\\lib\\site-packages (from tensorflow-gpu) (0.9.0)\n",
      "Requirement already satisfied: scipy==1.4.1; python_version >= \"3\" in c:\\programdata\\anaconda3\\lib\\site-packages (from tensorflow-gpu) (1.4.1)\n",
      "Requirement already satisfied: protobuf>=3.8.0 in c:\\programdata\\anaconda3\\lib\\site-packages (from tensorflow-gpu) (3.12.0)\n",
      "Requirement already satisfied: gast==0.3.3 in c:\\programdata\\anaconda3\\lib\\site-packages (from tensorflow-gpu) (0.3.3)\n",
      "Requirement already satisfied: six>=1.12.0 in c:\\programdata\\anaconda3\\lib\\site-packages (from tensorflow-gpu) (1.12.0)\n",
      "Requirement already satisfied: requests<3,>=2.21.0 in c:\\programdata\\anaconda3\\lib\\site-packages (from tensorboard<2.3.0,>=2.2.0->tensorflow-gpu) (2.23.0)\n",
      "Requirement already satisfied: markdown>=2.6.8 in c:\\programdata\\anaconda3\\lib\\site-packages (from tensorboard<2.3.0,>=2.2.0->tensorflow-gpu) (3.2.2)\n",
      "Requirement already satisfied: google-auth<2,>=1.6.3 in c:\\programdata\\anaconda3\\lib\\site-packages (from tensorboard<2.3.0,>=2.2.0->tensorflow-gpu) (1.14.3)\n",
      "Requirement already satisfied: setuptools>=41.0.0 in c:\\programdata\\anaconda3\\lib\\site-packages (from tensorboard<2.3.0,>=2.2.0->tensorflow-gpu) (46.3.1)\n",
      "Requirement already satisfied: tensorboard-plugin-wit>=1.6.0 in c:\\programdata\\anaconda3\\lib\\site-packages (from tensorboard<2.3.0,>=2.2.0->tensorflow-gpu) (1.6.0.post3)\n",
      "Requirement already satisfied: google-auth-oauthlib<0.5,>=0.4.1 in c:\\programdata\\anaconda3\\lib\\site-packages (from tensorboard<2.3.0,>=2.2.0->tensorflow-gpu) (0.4.1)\n",
      "Requirement already satisfied: werkzeug>=0.11.15 in c:\\programdata\\anaconda3\\lib\\site-packages (from tensorboard<2.3.0,>=2.2.0->tensorflow-gpu) (0.15.1)\n",
      "Requirement already satisfied: chardet<4,>=3.0.2 in c:\\programdata\\anaconda3\\lib\\site-packages (from requests<3,>=2.21.0->tensorboard<2.3.0,>=2.2.0->tensorflow-gpu) (3.0.4)\n",
      "Requirement already satisfied: urllib3!=1.25.0,!=1.25.1,<1.26,>=1.21.1 in c:\\programdata\\anaconda3\\lib\\site-packages (from requests<3,>=2.21.0->tensorboard<2.3.0,>=2.2.0->tensorflow-gpu) (1.25.9)\n",
      "Requirement already satisfied: idna<3,>=2.5 in c:\\programdata\\anaconda3\\lib\\site-packages (from requests<3,>=2.21.0->tensorboard<2.3.0,>=2.2.0->tensorflow-gpu) (2.9)\n",
      "Requirement already satisfied: certifi>=2017.4.17 in c:\\programdata\\anaconda3\\lib\\site-packages (from requests<3,>=2.21.0->tensorboard<2.3.0,>=2.2.0->tensorflow-gpu) (2020.4.5.1)\n",
      "Requirement already satisfied: importlib-metadata; python_version < \"3.8\" in c:\\programdata\\anaconda3\\lib\\site-packages (from markdown>=2.6.8->tensorboard<2.3.0,>=2.2.0->tensorflow-gpu) (1.6.0)\n",
      "Requirement already satisfied: rsa<4.1,>=3.1.4 in c:\\programdata\\anaconda3\\lib\\site-packages (from google-auth<2,>=1.6.3->tensorboard<2.3.0,>=2.2.0->tensorflow-gpu) (4.0)\n",
      "Requirement already satisfied: pyasn1-modules>=0.2.1 in c:\\programdata\\anaconda3\\lib\\site-packages (from google-auth<2,>=1.6.3->tensorboard<2.3.0,>=2.2.0->tensorflow-gpu) (0.2.8)\n",
      "Requirement already satisfied: cachetools<5.0,>=2.0.0 in c:\\programdata\\anaconda3\\lib\\site-packages (from google-auth<2,>=1.6.3->tensorboard<2.3.0,>=2.2.0->tensorflow-gpu) (4.1.0)\n",
      "Requirement already satisfied: requests-oauthlib>=0.7.0 in c:\\programdata\\anaconda3\\lib\\site-packages (from google-auth-oauthlib<0.5,>=0.4.1->tensorboard<2.3.0,>=2.2.0->tensorflow-gpu) (1.3.0)\n",
      "Requirement already satisfied: zipp>=0.5 in c:\\programdata\\anaconda3\\lib\\site-packages (from importlib-metadata; python_version < \"3.8\"->markdown>=2.6.8->tensorboard<2.3.0,>=2.2.0->tensorflow-gpu) (3.1.0)\n",
      "Requirement already satisfied: pyasn1>=0.1.3 in c:\\programdata\\anaconda3\\lib\\site-packages (from rsa<4.1,>=3.1.4->google-auth<2,>=1.6.3->tensorboard<2.3.0,>=2.2.0->tensorflow-gpu) (0.4.8)\n",
      "Requirement already satisfied: oauthlib>=3.0.0 in c:\\programdata\\anaconda3\\lib\\site-packages (from requests-oauthlib>=0.7.0->google-auth-oauthlib<0.5,>=0.4.1->tensorboard<2.3.0,>=2.2.0->tensorflow-gpu) (3.1.0)\n"
     ]
    }
   ],
   "source": [
    "!pip install tensorflow-gpu"
   ]
  },
  {
   "cell_type": "code",
   "execution_count": 2,
   "metadata": {},
   "outputs": [
    {
     "data": {
      "text/plain": [
       "False"
      ]
     },
     "execution_count": 2,
     "metadata": {},
     "output_type": "execute_result"
    }
   ],
   "source": [
    "import numpy as np\n",
    "import tensorflow as tf\n",
    "from tensorflow import keras\n",
    "\n",
    "tf.test.is_gpu_available()"
   ]
  },
  {
   "cell_type": "code",
   "execution_count": 3,
   "metadata": {},
   "outputs": [
    {
     "name": "stderr",
     "output_type": "stream",
     "text": [
      "Downloading...\n",
      "From: https://drive.google.com/uc?id=1e1SsVct7B6m3GLKlYKHb4ZGy8Ws4K35r\n",
      "To: C:\\Users\\maxazure\\projects\\IT819\\code\\515k-hotel-reviews-data-in-europe.zip\n",
      "\n",
      "0.00B [00:00, ?B/s]\n",
      "524kB [00:02, 244kB/s]\n",
      "1.05MB [00:02, 300kB/s]\n",
      "1.57MB [00:03, 347kB/s]\n",
      "2.10MB [00:04, 413kB/s]\n",
      "2.62MB [00:05, 517kB/s]\n",
      "3.15MB [00:05, 626kB/s]\n",
      "3.67MB [00:06, 567kB/s]\n",
      "4.19MB [00:07, 525kB/s]\n",
      "4.72MB [00:08, 555kB/s]\n",
      "5.24MB [00:09, 640kB/s]\n",
      "5.77MB [00:09, 742kB/s]\n",
      "6.29MB [00:10, 825kB/s]\n",
      "6.82MB [00:10, 834kB/s]\n",
      "7.34MB [00:11, 731kB/s]\n",
      "7.86MB [00:12, 783kB/s]\n",
      "8.39MB [00:12, 783kB/s]\n",
      "8.91MB [00:13, 828kB/s]\n",
      "9.44MB [00:13, 895kB/s]\n",
      "9.96MB [00:14, 907kB/s]\n",
      "10.5MB [00:15, 736kB/s]\n",
      "11.0MB [00:15, 779kB/s]\n",
      "11.5MB [00:16, 706kB/s]\n",
      "12.1MB [00:17, 728kB/s]\n",
      "12.6MB [00:18, 818kB/s]\n",
      "13.1MB [00:18, 867kB/s]\n",
      "13.6MB [00:19, 845kB/s]\n",
      "14.2MB [00:20, 691kB/s]\n",
      "14.7MB [00:22, 393kB/s]\n",
      "15.2MB [00:23, 497kB/s]\n",
      "15.7MB [00:23, 610kB/s]\n",
      "16.3MB [00:25, 480kB/s]\n",
      "16.8MB [00:25, 590kB/s]\n",
      "17.3MB [00:26, 695kB/s]\n",
      "17.8MB [00:27, 572kB/s]\n",
      "18.4MB [00:28, 568kB/s]\n",
      "18.9MB [00:29, 632kB/s]\n",
      "19.4MB [00:29, 706kB/s]\n",
      "19.9MB [00:30, 814kB/s]\n",
      "20.4MB [00:31, 698kB/s]\n",
      "21.0MB [00:31, 780kB/s]\n",
      "21.5MB [00:32, 688kB/s]\n",
      "22.0MB [00:33, 659kB/s]\n",
      "22.5MB [00:33, 772kB/s]\n",
      "23.1MB [00:34, 696kB/s]\n",
      "23.6MB [00:35, 606kB/s]\n",
      "24.1MB [00:36, 566kB/s]\n",
      "24.6MB [00:37, 594kB/s]\n",
      "25.2MB [00:38, 711kB/s]\n",
      "25.7MB [00:38, 819kB/s]\n",
      "26.2MB [00:39, 680kB/s]\n",
      "26.7MB [00:39, 812kB/s]\n",
      "27.3MB [00:40, 689kB/s]\n",
      "27.8MB [00:41, 697kB/s]\n",
      "28.3MB [00:43, 447kB/s]\n",
      "28.8MB [00:44, 481kB/s]\n",
      "29.4MB [00:45, 536kB/s]\n",
      "29.9MB [00:46, 616kB/s]\n",
      "30.4MB [00:46, 712kB/s]\n",
      "30.9MB [00:47, 614kB/s]\n",
      "31.5MB [00:49, 455kB/s]\n",
      "32.0MB [00:49, 542kB/s]\n",
      "32.5MB [00:50, 610kB/s]\n",
      "33.0MB [00:51, 701kB/s]\n",
      "33.6MB [00:51, 775kB/s]\n",
      "34.1MB [00:52, 658kB/s]\n",
      "34.6MB [00:53, 615kB/s]\n",
      "35.1MB [00:54, 601kB/s]\n",
      "35.7MB [00:55, 589kB/s]\n",
      "36.2MB [00:56, 607kB/s]\n",
      "36.7MB [00:56, 712kB/s]\n",
      "37.2MB [00:57, 692kB/s]\n",
      "37.7MB [00:58, 763kB/s]\n",
      "38.3MB [00:58, 699kB/s]\n",
      "38.8MB [00:59, 840kB/s]\n",
      "39.3MB [00:59, 852kB/s]\n",
      "39.8MB [01:02, 469kB/s]\n",
      "40.4MB [01:03, 414kB/s]\n",
      "40.9MB [01:04, 449kB/s]\n",
      "41.4MB [01:05, 511kB/s]\n",
      "41.9MB [01:06, 578kB/s]\n",
      "42.5MB [01:06, 621kB/s]\n",
      "43.0MB [01:08, 545kB/s]\n",
      "43.5MB [01:08, 590kB/s]\n",
      "44.0MB [01:09, 677kB/s]\n",
      "44.6MB [01:09, 758kB/s]\n",
      "45.1MB [01:10, 814kB/s]\n",
      "45.6MB [01:10, 833kB/s]\n",
      "46.1MB [01:11, 879kB/s]\n",
      "46.7MB [01:12, 621kB/s]\n",
      "47.2MB [01:13, 604kB/s]\n",
      "47.3MB [01:13, 641kB/s]\n"
     ]
    }
   ],
   "source": [
    "!gdown --id 1e1SsVct7B6m3GLKlYKHb4ZGy8Ws4K35r --output 515k-hotel-reviews-data-in-europe.zip"
   ]
  },
  {
   "cell_type": "code",
   "execution_count": null,
   "metadata": {},
   "outputs": [],
   "source": []
  }
 ],
 "metadata": {
  "kernelspec": {
   "display_name": "Python 3",
   "language": "python",
   "name": "python3"
  },
  "language_info": {
   "codemirror_mode": {
    "name": "ipython",
    "version": 3
   },
   "file_extension": ".py",
   "mimetype": "text/x-python",
   "name": "python",
   "nbconvert_exporter": "python",
   "pygments_lexer": "ipython3",
   "version": "3.7.6"
  }
 },
 "nbformat": 4,
 "nbformat_minor": 4
}
