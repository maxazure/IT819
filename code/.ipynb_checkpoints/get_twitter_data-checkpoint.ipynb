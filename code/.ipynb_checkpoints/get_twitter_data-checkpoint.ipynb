{
 "cells": [
  {
   "cell_type": "code",
   "execution_count": 11,
   "metadata": {
    "scrolled": true
   },
   "outputs": [
    {
     "ename": "SyntaxError",
     "evalue": "unexpected EOF while parsing (<ipython-input-11-bd2f8c631143>, line 22)",
     "output_type": "error",
     "traceback": [
      "\u001b[1;36m  File \u001b[1;32m\"<ipython-input-11-bd2f8c631143>\"\u001b[1;36m, line \u001b[1;32m22\u001b[0m\n\u001b[1;33m    @user\u001b[0m\n\u001b[1;37m         ^\u001b[0m\n\u001b[1;31mSyntaxError\u001b[0m\u001b[1;31m:\u001b[0m unexpected EOF while parsing\n"
     ]
    }
   ],
   "source": [
    "import tweepy\n",
    "\n",
    "consumer_key='oT1G8kXNStaLjE3oMkCNmzbSW'\n",
    "consumer_secret='f2gFexanHDCVgyz1a2NHDy3yPXvIsZrhGe5AUXUIQQnH2fvqK6'\n",
    "access_token='12935292-yQd4zzI61BC4uwfHBgrkRa83hrpvBKSBotaw1onTT'\n",
    "access_token_secret='2Y5sSkKdcsZ2nUF46PgPAHVpk2Mz7fEs9awfTlnILMnSp'\n",
    "\n",
    "auth = tweepy.OAuthHandler(consumer_key, consumer_secret)\n",
    "auth.set_access_token(access_token, access_token_secret)\n",
    "\n",
    "api = tweepy.API(auth)\n",
    "\n",
    "query='#COVID-19'\n",
    "langage='en'\n",
    "\n",
    "results = api.search(q=query,lang=langage)\n",
    "for tweet in results:\n",
    "    print( tweet.text)\n",
    "    print('-------------------------')\n",
    "    \n",
    "#id,date,text,location\n",
    "#@user"
   ]
  },
  {
   "cell_type": "code",
   "execution_count": 13,
   "metadata": {},
   "outputs": [],
   "source": [
    "import pandas as pd\n",
    "\n",
    "dataframe=pd.read_csv(\"april22_april23.csv\", header=None)\n",
    "\n",
    "dataframe=dataframe[0]\n",
    "\n",
    "dataframe.to_csv(\"ready_april22_april23.csv\", index=False, header=None)"
   ]
  },
  {
   "cell_type": "code",
   "execution_count": 21,
   "metadata": {},
   "outputs": [
    {
     "name": "stdout",
     "output_type": "stream",
     "text": [
      "Sentiment(classification='pos', p_pos=0.9396764747486607, p_neg=0.06032352525133939)\n"
     ]
    }
   ],
   "source": [
    "# code for sentiment analysis\n",
    "\n",
    "from textblob import TextBlob\n",
    "from textblob.sentiments import NaiveBayesAnalyzer\n",
    "\n",
    "def getSentiments(text):\n",
    "    blob = TextBlob(text,  analyzer=NaiveBayesAnalyzer())\n",
    "    print(blob.sentiment)\n",
    "\n",
    "txt='Service robot implementation a theoretical framework and research agenda'\n",
    "txt1='I just feel sad.'\n",
    "getSentiments(txt)"
   ]
  },
  {
   "cell_type": "code",
   "execution_count": null,
   "metadata": {},
   "outputs": [],
   "source": []
  }
 ],
 "metadata": {
  "kernelspec": {
   "display_name": "Python 3",
   "language": "python",
   "name": "python3"
  },
  "language_info": {
   "codemirror_mode": {
    "name": "ipython",
    "version": 3
   },
   "file_extension": ".py",
   "mimetype": "text/x-python",
   "name": "python",
   "nbconvert_exporter": "python",
   "pygments_lexer": "ipython3",
   "version": "3.7.6"
  }
 },
 "nbformat": 4,
 "nbformat_minor": 4
}
